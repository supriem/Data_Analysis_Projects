{
 "cells": [
  {
   "cell_type": "code",
   "execution_count": 1,
   "metadata": {},
   "outputs": [],
   "source": [
    "import numpy as np\n",
    "import pandas as pd\n",
    "import matplotlib.pyplot as plt\n",
    "import seaborn as sns"
   ]
  },
  {
   "cell_type": "code",
   "execution_count": 3,
   "metadata": {},
   "outputs": [],
   "source": [
    "data=pd.read_csv(\"/home/suprim/learcrux/Population 10 years and above by type of activity performed, duration (in month) and sex.csv\")"
   ]
  },
  {
   "cell_type": "code",
   "execution_count": 4,
   "metadata": {},
   "outputs": [
    {
     "name": "stdout",
     "output_type": "stream",
     "text": [
      "<class 'pandas.core.frame.DataFrame'>\n",
      "RangeIndex: 7800 entries, 0 to 7799\n",
      "Data columns (total 5 columns):\n",
      "District                                     7800 non-null object\n",
      "Gender                                       7800 non-null object\n",
      "Area, Sex and type of activity               7800 non-null object\n",
      "Duration of activity performed (in month)    7800 non-null int64\n",
      "Value                                        7800 non-null int64\n",
      "dtypes: int64(2), object(3)\n",
      "memory usage: 304.8+ KB\n"
     ]
    }
   ],
   "source": [
    "data.info()"
   ]
  },
  {
   "cell_type": "code",
   "execution_count": 5,
   "metadata": {},
   "outputs": [
    {
     "data": {
      "text/html": [
       "<div>\n",
       "<style scoped>\n",
       "    .dataframe tbody tr th:only-of-type {\n",
       "        vertical-align: middle;\n",
       "    }\n",
       "\n",
       "    .dataframe tbody tr th {\n",
       "        vertical-align: top;\n",
       "    }\n",
       "\n",
       "    .dataframe thead th {\n",
       "        text-align: right;\n",
       "    }\n",
       "</style>\n",
       "<table border=\"1\" class=\"dataframe\">\n",
       "  <thead>\n",
       "    <tr style=\"text-align: right;\">\n",
       "      <th></th>\n",
       "      <th>District</th>\n",
       "      <th>Gender</th>\n",
       "      <th>Area, Sex and type of activity</th>\n",
       "      <th>Duration of activity performed (in month)</th>\n",
       "      <th>Value</th>\n",
       "    </tr>\n",
       "  </thead>\n",
       "  <tbody>\n",
       "    <tr>\n",
       "      <th>0</th>\n",
       "      <td>Taplejung</td>\n",
       "      <td>Male</td>\n",
       "      <td>Economic</td>\n",
       "      <td>0</td>\n",
       "      <td>14842</td>\n",
       "    </tr>\n",
       "    <tr>\n",
       "      <th>1</th>\n",
       "      <td>Taplejung</td>\n",
       "      <td>Male</td>\n",
       "      <td>Economic</td>\n",
       "      <td>1</td>\n",
       "      <td>560</td>\n",
       "    </tr>\n",
       "    <tr>\n",
       "      <th>2</th>\n",
       "      <td>Taplejung</td>\n",
       "      <td>Male</td>\n",
       "      <td>Economic</td>\n",
       "      <td>2</td>\n",
       "      <td>2086</td>\n",
       "    </tr>\n",
       "    <tr>\n",
       "      <th>3</th>\n",
       "      <td>Taplejung</td>\n",
       "      <td>Male</td>\n",
       "      <td>Economic</td>\n",
       "      <td>3</td>\n",
       "      <td>595</td>\n",
       "    </tr>\n",
       "    <tr>\n",
       "      <th>4</th>\n",
       "      <td>Taplejung</td>\n",
       "      <td>Male</td>\n",
       "      <td>Economic</td>\n",
       "      <td>4</td>\n",
       "      <td>732</td>\n",
       "    </tr>\n",
       "  </tbody>\n",
       "</table>\n",
       "</div>"
      ],
      "text/plain": [
       "     District Gender Area, Sex and type of activity  \\\n",
       "0   Taplejung   Male                       Economic   \n",
       "1   Taplejung   Male                       Economic   \n",
       "2   Taplejung   Male                       Economic   \n",
       "3   Taplejung   Male                       Economic   \n",
       "4   Taplejung   Male                       Economic   \n",
       "\n",
       "   Duration of activity performed (in month)  Value  \n",
       "0                                          0  14842  \n",
       "1                                          1    560  \n",
       "2                                          2   2086  \n",
       "3                                          3    595  \n",
       "4                                          4    732  "
      ]
     },
     "execution_count": 5,
     "metadata": {},
     "output_type": "execute_result"
    }
   ],
   "source": [
    "data.head()"
   ]
  },
  {
   "cell_type": "code",
   "execution_count": 7,
   "metadata": {},
   "outputs": [
    {
     "data": {
      "text/html": [
       "<div>\n",
       "<style scoped>\n",
       "    .dataframe tbody tr th:only-of-type {\n",
       "        vertical-align: middle;\n",
       "    }\n",
       "\n",
       "    .dataframe tbody tr th {\n",
       "        vertical-align: top;\n",
       "    }\n",
       "\n",
       "    .dataframe thead th {\n",
       "        text-align: right;\n",
       "    }\n",
       "</style>\n",
       "<table border=\"1\" class=\"dataframe\">\n",
       "  <thead>\n",
       "    <tr style=\"text-align: right;\">\n",
       "      <th></th>\n",
       "      <th>Duration of activity performed (in month)</th>\n",
       "      <th>Value</th>\n",
       "    </tr>\n",
       "  </thead>\n",
       "  <tbody>\n",
       "    <tr>\n",
       "      <th>count</th>\n",
       "      <td>7800.000000</td>\n",
       "      <td>7800.000000</td>\n",
       "    </tr>\n",
       "    <tr>\n",
       "      <th>mean</th>\n",
       "      <td>6.000000</td>\n",
       "      <td>10402.339615</td>\n",
       "    </tr>\n",
       "    <tr>\n",
       "      <th>std</th>\n",
       "      <td>3.741897</td>\n",
       "      <td>38069.820447</td>\n",
       "    </tr>\n",
       "    <tr>\n",
       "      <th>min</th>\n",
       "      <td>0.000000</td>\n",
       "      <td>0.000000</td>\n",
       "    </tr>\n",
       "    <tr>\n",
       "      <th>25%</th>\n",
       "      <td>3.000000</td>\n",
       "      <td>176.000000</td>\n",
       "    </tr>\n",
       "    <tr>\n",
       "      <th>50%</th>\n",
       "      <td>6.000000</td>\n",
       "      <td>1007.500000</td>\n",
       "    </tr>\n",
       "    <tr>\n",
       "      <th>75%</th>\n",
       "      <td>9.000000</td>\n",
       "      <td>3551.000000</td>\n",
       "    </tr>\n",
       "    <tr>\n",
       "      <th>max</th>\n",
       "      <td>12.000000</td>\n",
       "      <td>728026.000000</td>\n",
       "    </tr>\n",
       "  </tbody>\n",
       "</table>\n",
       "</div>"
      ],
      "text/plain": [
       "       Duration of activity performed (in month)          Value\n",
       "count                                7800.000000    7800.000000\n",
       "mean                                    6.000000   10402.339615\n",
       "std                                     3.741897   38069.820447\n",
       "min                                     0.000000       0.000000\n",
       "25%                                     3.000000     176.000000\n",
       "50%                                     6.000000    1007.500000\n",
       "75%                                     9.000000    3551.000000\n",
       "max                                    12.000000  728026.000000"
      ]
     },
     "execution_count": 7,
     "metadata": {},
     "output_type": "execute_result"
    }
   ],
   "source": [
    "data.describe() #this will give standard deviation,mean,total count etc"
   ]
  },
  {
   "cell_type": "code",
   "execution_count": 9,
   "metadata": {},
   "outputs": [
    {
     "data": {
      "text/plain": [
       "0        0\n",
       "1        1\n",
       "2        2\n",
       "3        3\n",
       "4        4\n",
       "5        5\n",
       "6        6\n",
       "7        7\n",
       "8        8\n",
       "9        9\n",
       "10      10\n",
       "11      11\n",
       "12      12\n",
       "13       0\n",
       "14       1\n",
       "15       2\n",
       "16       3\n",
       "17       4\n",
       "18       5\n",
       "19       6\n",
       "20       7\n",
       "21       8\n",
       "22       9\n",
       "23      10\n",
       "24      11\n",
       "25      12\n",
       "26       0\n",
       "27       1\n",
       "28       2\n",
       "29       3\n",
       "        ..\n",
       "7770     9\n",
       "7771    10\n",
       "7772    11\n",
       "7773    12\n",
       "7774     0\n",
       "7775     1\n",
       "7776     2\n",
       "7777     3\n",
       "7778     4\n",
       "7779     5\n",
       "7780     6\n",
       "7781     7\n",
       "7782     8\n",
       "7783     9\n",
       "7784    10\n",
       "7785    11\n",
       "7786    12\n",
       "7787     0\n",
       "7788     1\n",
       "7789     2\n",
       "7790     3\n",
       "7791     4\n",
       "7792     5\n",
       "7793     6\n",
       "7794     7\n",
       "7795     8\n",
       "7796     9\n",
       "7797    10\n",
       "7798    11\n",
       "7799    12\n",
       "Name: Duration of activity performed (in month), Length: 7800, dtype: int64"
      ]
     },
     "execution_count": 9,
     "metadata": {},
     "output_type": "execute_result"
    }
   ],
   "source": [
    "data['Duration of activity performed (in month)']"
   ]
  },
  {
   "cell_type": "code",
   "execution_count": 24,
   "metadata": {},
   "outputs": [],
   "source": [
    "data['District'].value='Taplejung'"
   ]
  },
  {
   "cell_type": "code",
   "execution_count": 19,
   "metadata": {},
   "outputs": [
    {
     "data": {
      "text/plain": [
       " Humla       104\n",
       " Sindhuli    104\n",
       " Banke       104\n",
       " Syangja     104\n",
       " Achham      104\n",
       "Name: District, dtype: int64"
      ]
     },
     "execution_count": 19,
     "metadata": {},
     "output_type": "execute_result"
    }
   ],
   "source": [
    "data['District'].value_counts().head(5) #shows number of repeated district value.count(5) allows only 5 district"
   ]
  },
  {
   "cell_type": "code",
   "execution_count": 26,
   "metadata": {},
   "outputs": [
    {
     "data": {
      "text/plain": [
       "array([' Taplejung', ' Panchthar', ' Ilam', ' Jhapa', ' Morang',\n",
       "       ' Sunsari', ' Dhankuta', ' Terhathum', ' Sankhuwasabha',\n",
       "       ' Bhojpur', ' Solukhumbu', ' Okhaldhunga', ' Khotang', ' Udayapur',\n",
       "       ' Saptari', ' Siraha', ' Dhanusa', ' Mahottari', ' Sarlahi',\n",
       "       ' Sindhuli', ' Ramechhap', ' Dolakha', ' Sindhupalchok',\n",
       "       ' Kavrepalanchok', ' Lalitpur', ' Bhaktapur', ' Kathmandu',\n",
       "       ' Nuwakot', ' Rasuwa', ' Dhading', ' Makwanpur', ' Rautahat',\n",
       "       ' Bara', ' Parsa', ' Chitawan', ' Gorkha', ' Lamjung', ' Tanahu',\n",
       "       ' Syangja', ' Kaski', ' Manang', ' Mustang', ' Myagdi', ' Parbat',\n",
       "       ' Baglung', ' Gulmi', ' Palpa', ' Nawalparasi', ' Rupandehi',\n",
       "       ' Kapilbastu', ' Arghakhanchi', ' Pyuthan', ' Rolpa', ' Rukum',\n",
       "       ' Salyan', ' Dang', ' Banke', ' Bardiya', ' Surkhet', ' Dailekh',\n",
       "       ' Jajarkot', ' Dolpa', ' Jumla', ' Kalikot', ' Mugu', ' Humla',\n",
       "       ' Bajura', ' Bajhang', ' Achham', ' Doti', ' Kailali',\n",
       "       ' Kanchanpur', ' Dadeldhura', ' Baitadi', 'Darchula'], dtype=object)"
      ]
     },
     "execution_count": 26,
     "metadata": {},
     "output_type": "execute_result"
    }
   ],
   "source": [
    "#fetching unique districe\n",
    "data['District'].unique()"
   ]
  },
  {
   "cell_type": "code",
   "execution_count": 30,
   "metadata": {},
   "outputs": [
    {
     "data": {
      "text/plain": [
       "75"
      ]
     },
     "execution_count": 30,
     "metadata": {},
     "output_type": "execute_result"
    }
   ],
   "source": [
    "len(data['District'].unique()) #counting the district"
   ]
  },
  {
   "cell_type": "code",
   "execution_count": 37,
   "metadata": {},
   "outputs": [],
   "source": [
    "data.rename(columns={'dis':'District',\n",
    "                          'AGA':'Area, Sex and type of activity',\n",
    "                          'Duration':'Duration of activity performed (in month)'}, \n",
    "                 inplace=True)"
   ]
  },
  {
   "cell_type": "code",
   "execution_count": 38,
   "metadata": {},
   "outputs": [
    {
     "data": {
      "text/html": [
       "<div>\n",
       "<style scoped>\n",
       "    .dataframe tbody tr th:only-of-type {\n",
       "        vertical-align: middle;\n",
       "    }\n",
       "\n",
       "    .dataframe tbody tr th {\n",
       "        vertical-align: top;\n",
       "    }\n",
       "\n",
       "    .dataframe thead th {\n",
       "        text-align: right;\n",
       "    }\n",
       "</style>\n",
       "<table border=\"1\" class=\"dataframe\">\n",
       "  <thead>\n",
       "    <tr style=\"text-align: right;\">\n",
       "      <th></th>\n",
       "      <th>District</th>\n",
       "      <th>Gender</th>\n",
       "      <th>Area, Sex and type of activity</th>\n",
       "      <th>Duration of activity performed (in month)</th>\n",
       "      <th>Value</th>\n",
       "    </tr>\n",
       "  </thead>\n",
       "  <tbody>\n",
       "    <tr>\n",
       "      <th>0</th>\n",
       "      <td>Taplejung</td>\n",
       "      <td>Male</td>\n",
       "      <td>Economic</td>\n",
       "      <td>0</td>\n",
       "      <td>14842</td>\n",
       "    </tr>\n",
       "    <tr>\n",
       "      <th>1</th>\n",
       "      <td>Taplejung</td>\n",
       "      <td>Male</td>\n",
       "      <td>Economic</td>\n",
       "      <td>1</td>\n",
       "      <td>560</td>\n",
       "    </tr>\n",
       "    <tr>\n",
       "      <th>2</th>\n",
       "      <td>Taplejung</td>\n",
       "      <td>Male</td>\n",
       "      <td>Economic</td>\n",
       "      <td>2</td>\n",
       "      <td>2086</td>\n",
       "    </tr>\n",
       "    <tr>\n",
       "      <th>3</th>\n",
       "      <td>Taplejung</td>\n",
       "      <td>Male</td>\n",
       "      <td>Economic</td>\n",
       "      <td>3</td>\n",
       "      <td>595</td>\n",
       "    </tr>\n",
       "    <tr>\n",
       "      <th>4</th>\n",
       "      <td>Taplejung</td>\n",
       "      <td>Male</td>\n",
       "      <td>Economic</td>\n",
       "      <td>4</td>\n",
       "      <td>732</td>\n",
       "    </tr>\n",
       "  </tbody>\n",
       "</table>\n",
       "</div>"
      ],
      "text/plain": [
       "     District Gender Area, Sex and type of activity  \\\n",
       "0   Taplejung   Male                       Economic   \n",
       "1   Taplejung   Male                       Economic   \n",
       "2   Taplejung   Male                       Economic   \n",
       "3   Taplejung   Male                       Economic   \n",
       "4   Taplejung   Male                       Economic   \n",
       "\n",
       "   Duration of activity performed (in month)  Value  \n",
       "0                                          0  14842  \n",
       "1                                          1    560  \n",
       "2                                          2   2086  \n",
       "3                                          3    595  \n",
       "4                                          4    732  "
      ]
     },
     "execution_count": 38,
     "metadata": {},
     "output_type": "execute_result"
    }
   ],
   "source": [
    "data.head()"
   ]
  },
  {
   "cell_type": "code",
   "execution_count": 39,
   "metadata": {},
   "outputs": [
    {
     "data": {
      "text/plain": [
       "<matplotlib.axes._subplots.AxesSubplot at 0x7f9c8d563240>"
      ]
     },
     "execution_count": 39,
     "metadata": {},
     "output_type": "execute_result"
    },
    {
     "data": {
      "image/png": "[encoded data removed]",
      "text/plain": [
       "<Figure size 432x288 with 1 Axes>"
      ]
     },
     "metadata": {
      "needs_background": "light"
     },
     "output_type": "display_data"
    }
   ],
   "source": [
    "sns.countplot(x=\"District\",data=data) #Show the counts of observations in each categorical bin using bars."
   ]
  },
  {
   "cell_type": "code",
   "execution_count": 40,
   "metadata": {},
   "outputs": [
    {
     "data": {
      "text/plain": [
       "<seaborn.axisgrid.FacetGrid at 0x7f9c8d56b048>"
      ]
     },
     "execution_count": 40,
     "metadata": {},
     "output_type": "execute_result"
    },
    {
     "data": {
      "image/png": "[encoded data removed]",
      "text/plain": [
       "<Figure size 360x360 with 1 Axes>"
      ]
     },
     "metadata": {
      "needs_background": "light"
     },
     "output_type": "display_data"
    }
   ],
   "source": [
    "sns.catplot(x=\"District\",data=data)"
   ]
  },
  {
   "cell_type": "code",
   "execution_count": 44,
   "metadata": {},
   "outputs": [
    {
     "data": {
      "text/plain": [
       "<matplotlib.axes._subplots.AxesSubplot at 0x7f9c8ce6b2e8>"
      ]
     },
     "execution_count": 44,
     "metadata": {},
     "output_type": "execute_result"
    },
    {
     "data": {
      "image/png": "[encoded data removed]",
      "text/plain": [
       "<Figure size 432x288 with 1 Axes>"
      ]
     },
     "metadata": {
      "needs_background": "light"
     },
     "output_type": "display_data"
    }
   ],
   "source": [
    "data.plot(x='District', y='Value')"
   ]
  },
  {
   "cell_type": "code",
   "execution_count": 46,
   "metadata": {},
   "outputs": [
    {
     "data": {
      "text/plain": [
       "<matplotlib.axes._subplots.AxesSubplot at 0x7f9c8cdc9320>"
      ]
     },
     "execution_count": 46,
     "metadata": {},
     "output_type": "execute_result"
    },
    {
     "data": {
      "image/png": "[encoded data removed]",
      "text/plain": [
       "<Figure size 432x288 with 1 Axes>"
      ]
     },
     "metadata": {
      "needs_background": "light"
     },
     "output_type": "display_data"
    }
   ],
   "source": [
    "data.plot(x='Duration of activity performed (in month)',y='Value')"
   ]
  },
  {
   "cell_type": "code",
   "execution_count": null,
   "metadata": {},
   "outputs": [],
   "source": []
  }
 ],
 "metadata": {
  "kernelspec": {
   "display_name": "Python 3",
   "language": "python",
   "name": "python3"
  },
  "language_info": {
   "codemirror_mode": {
    "name": "ipython",
    "version": 3
   },
   "file_extension": ".py",
   "mimetype": "text/x-python",
   "name": "python",
   "nbconvert_exporter": "python",
   "pygments_lexer": "ipython3",
   "version": "3.7.1"
  }
 },
 "nbformat": 4,
 "nbformat_minor": 2
}
